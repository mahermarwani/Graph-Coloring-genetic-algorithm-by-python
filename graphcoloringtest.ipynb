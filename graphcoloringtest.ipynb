{
 "cells": [
  {
   "cell_type": "code",
   "execution_count": 18,
   "metadata": {},
   "outputs": [],
   "source": [
    "import random as random\n",
    "import numpy as np"
   ]
  },
  {
   "cell_type": "code",
   "execution_count": 19,
   "metadata": {},
   "outputs": [],
   "source": [
    "#define class graph\n",
    "class graph:\n",
    "    def __init__(self,n,adj):\n",
    "        self.n=n\n",
    "        self.adj=adj"
   ]
  },
  {
   "cell_type": "code",
   "execution_count": 20,
   "metadata": {},
   "outputs": [],
   "source": [
    "#define fitness scoring by calculating number of bad edges\n",
    "def fitness(gr,sample):\n",
    "        score=0\n",
    "        for i in range(gr.n):\n",
    "            for j in range(gr.n):\n",
    "                if ( (gr.adj[i,j]==1) and (sample[i]==sample[j]) and (i!=j) ):\n",
    "                    score=score+1      \n",
    "        return int(score/2)"
   ]
  },
  {
   "cell_type": "code",
   "execution_count": 21,
   "metadata": {},
   "outputs": [],
   "source": [
    "def parentselection1(population,gr):\n",
    "    \n",
    "    #choose first parent\n",
    "    x=random.choice(population)\n",
    "    y=random.choice(population)\n",
    "    if(fitness(gr,x) <= fitness(gr,y) ):\n",
    "        parent1=x\n",
    "    else:\n",
    "        parent1=y\n",
    "    #choose second parent    \n",
    "    x=random.choice(population)\n",
    "    y=random.choice(population)\n",
    "    if(fitness(gr,x) <= fitness(gr,y) ):\n",
    "        parent2=x\n",
    "    else:\n",
    "        parent2=y\n",
    "        \n",
    "    return parent1,parent2\n"
   ]
  },
  {
   "cell_type": "code",
   "execution_count": 22,
   "metadata": {},
   "outputs": [],
   "source": [
    "def Bestfitness(population,gr):\n",
    "    population_size=len(population)\n",
    "    #evaluate fitness of all population\n",
    "    allfitnessscore=[]\n",
    "    for i in range(population_size):\n",
    "        allfitnessscore.append( fitness(gr,population[i]) )    \n",
    "    bestfitness=min(allfitnessscore) \n",
    "    return bestfitness,allfitnessscore.index( bestfitness )"
   ]
  },
  {
   "cell_type": "code",
   "execution_count": 23,
   "metadata": {},
   "outputs": [],
   "source": [
    "def sortbyfitness(population,gr): \n",
    "    for i in range(len(population)):\n",
    "        k=i\n",
    "        for j in range(i+1,len(population)):\n",
    "            if ( fitness(gr,population[k])> fitness(gr,population[j]) ):\n",
    "                population[k],population[j]=population[j],population[k]\n",
    "    return(population)"
   ]
  },
  {
   "cell_type": "code",
   "execution_count": 24,
   "metadata": {},
   "outputs": [],
   "source": [
    "def parentselection2(population,gr):   \n",
    "    #choose  the top performing chromosome    \n",
    "    bestfitness,Index1=Bestfitness(population,gr)\n",
    "    return population[Index1],population[Index1] \n"
   ]
  },
  {
   "cell_type": "code",
   "execution_count": 25,
   "metadata": {},
   "outputs": [],
   "source": [
    "def Crossover(parent1,parent2):\n",
    "    CrossPoint = random.randint(0,len(parent1)-1)\n",
    "    Child = parent1[:CrossPoint+1] + parent2[CrossPoint+1:]\n",
    "    return Child\n"
   ]
  },
  {
   "cell_type": "code",
   "execution_count": 26,
   "metadata": {},
   "outputs": [],
   "source": [
    "def mutation1(gr,numberof_colors,sample):\n",
    "        all_colors=range(1,numberof_colors+1)\n",
    "        for i in range(gr.n):\n",
    "            adjacent_colors=[]\n",
    "            valid_colors=[]\n",
    "            for j in range(gr.n):\n",
    "                if (gr.adj[i,j]==1) and (sample[i]==sample[j]):\n",
    "                    for k in range(gr.n):\n",
    "                        if (gr.adj[i,k]==1):\n",
    "                            adjacent_colors.append(sample[k])             \n",
    "            adjacent_colors=list(set(adjacent_colors))\n",
    "            valid_colors=list(set(all_colors)-set(adjacent_colors))\n",
    "            if(len(valid_colors)==0):\n",
    "                print(\"PROBLEM : Number of colors is not enough to color all graph\")\n",
    "            new_color=random.choice(valid_colors)\n",
    "            sample[i]=new_color\n",
    "        return sample     "
   ]
  },
  {
   "cell_type": "code",
   "execution_count": 27,
   "metadata": {},
   "outputs": [],
   "source": [
    "def mutation2(gr,numberof_colors,sample):\n",
    "        all_colors=range(1,numberof_colors+1)\n",
    "        for i in range(gr.n):\n",
    "            for j in range(gr.n):\n",
    "                if (gr.adj[i,j]==1)and (sample[i]==sample[j]):\n",
    "                    new_color=random.choice(all_colors)\n",
    "                    sample[i]=new_color\n",
    "        return sample            "
   ]
  },
  {
   "cell_type": "code",
   "execution_count": 29,
   "metadata": {},
   "outputs": [],
   "source": [
    "def general_genetic_algorithm(numberof_colors,max_generation_number,gr):\n",
    "    population_size=50\n",
    "    mid_point=25\n",
    "    \n",
    "    #population = randomly generated chromosomes\n",
    "    population=[]\n",
    "    for i in range(population_size):\n",
    "        cr=[]\n",
    "        for i in range(gr.n):    \n",
    "            #ramdomly choose table of colors\n",
    "            cr.append(random.randint(1,numberof_colors))\n",
    "        #add to population\n",
    "        population.append(cr)\n",
    "        \n",
    "    #run general genetic algorithm    \n",
    "    generation_number=0\n",
    "    best_fitness=351286532  \n",
    "    k=0\n",
    "    while( (generation_number<max_generation_number) or (best_fitness!=0) ):\n",
    "        \n",
    "        #evaluate fitness of all population\n",
    "        best_fitness,Index1=Bestfitness(population,gr)\n",
    "        t=best_fitness\n",
    "        if(generation_number==0):\n",
    "            print(\"best fitness to begin with: \",t)\n",
    "        #create children    \n",
    "        children=[]\n",
    "        if (best_fitness>=4):\n",
    "            for i in range (len(population)+1):\n",
    "                parent1,parent2=parentselection1(population,gr)\n",
    "                child=Crossover(parent1,parent2)\n",
    "                child=mutation1(gr,numberof_colors,child)\n",
    "                children.append(child)\n",
    "        else:\n",
    "            for i in range (len(population)+1):\n",
    "                parent1,parent2=parentselection2(population,gr)\n",
    "                child=Crossover(parent1,parent2)\n",
    "                child=mutation2(gr,numberof_colors,child)\n",
    "                children.append(child)\n",
    "        \n",
    "        #update population\n",
    "        population=sortbyfitness(population,gr)\n",
    "        for i in range(mid_point,population_size):\n",
    "            population[i]=children[i-mid_point]\n",
    "        #evaluate fitness of all population\n",
    "        best_fitness,Index1=Bestfitness(population,gr)    \n",
    "\n",
    "        #add number of generations\n",
    "        generation_number=generation_number+1\n",
    "        if(t!=best_fitness):\n",
    "            print(\"best fitness found in \" ,generation_number,\"generation step :\",best_fitness) \n",
    "        else:\n",
    "            k=k+1\n",
    "        if(k==53):\n",
    "            break\n",
    "    print(\"the algorithm found a solution after :\",generation_number,\"generation steps with fitness :\",best_fitness)   \n",
    "    return population        "
   ]
  },
  {
   "cell_type": "code",
   "execution_count": 30,
   "metadata": {},
   "outputs": [],
   "source": [
    "def random_matrix(n):\n",
    "    m=np.ones( (n,n) )\n",
    "    for i in range(n-1):\n",
    "        for j in range(i+1,n):\n",
    "            m[i][j]=random.randint(0,1)\n",
    "            m[j][i]=m[i][j]\n",
    "    return m"
   ]
  },
  {
   "cell_type": "code",
   "execution_count": 35,
   "metadata": {
    "scrolled": true
   },
   "outputs": [
    {
     "name": "stdout",
     "output_type": "stream",
     "text": [
      "nmuber of vertex:  10\n",
      "adjency matrix:\n",
      " [[1. 1. 0. 0. 0. 0. 0. 1. 1. 1.]\n",
      " [1. 1. 0. 0. 0. 1. 1. 1. 0. 0.]\n",
      " [0. 0. 1. 1. 0. 1. 1. 0. 0. 1.]\n",
      " [0. 0. 1. 1. 0. 0. 1. 0. 1. 0.]\n",
      " [0. 0. 0. 0. 1. 1. 1. 1. 1. 0.]\n",
      " [0. 1. 1. 0. 1. 1. 1. 0. 1. 1.]\n",
      " [0. 1. 1. 1. 1. 1. 1. 1. 0. 1.]\n",
      " [1. 1. 0. 0. 1. 0. 1. 1. 1. 1.]\n",
      " [1. 0. 0. 1. 1. 1. 0. 1. 1. 1.]\n",
      " [1. 0. 1. 0. 0. 1. 1. 1. 1. 1.]]\n"
     ]
    }
   ],
   "source": [
    "#input example:\n",
    "n=10\n",
    "adj=random_matrix(n)\n",
    "print(\"nmuber of vertex: \",n)\n",
    "print(\"adjency matrix:\\n\",adj)\n",
    "gr=graph(n,adj)"
   ]
  },
  {
   "cell_type": "code",
   "execution_count": 45,
   "metadata": {
    "scrolled": true
   },
   "outputs": [
    {
     "name": "stdout",
     "output_type": "stream",
     "text": [
      "best fitness to begin with:  2\n",
      "best fitness found in  1 generation step : 1\n",
      "the algorithm found a solution after : 54 generation steps with fitness : 1\n"
     ]
    }
   ],
   "source": [
    "#choose parameters\n",
    "numberof_colors= 4\n",
    "max_generation_number=1000\n",
    "\n",
    "#run genetic algorithm with chosen parameters\n",
    "final_population=general_genetic_algorithm(numberof_colors,max_generation_number,gr)"
   ]
  },
  {
   "cell_type": "code",
   "execution_count": 42,
   "metadata": {
    "scrolled": false
   },
   "outputs": [
    {
     "name": "stdout",
     "output_type": "stream",
     "text": [
      "a good solution for the problem using the number of colors  4 is:\n",
      "\n",
      "befor correction:\n",
      " [1, 2, 3, 2, 2, 1, 4, 3, 4, 2]\n",
      "after correction:\n",
      " [1, 2, 3, 2, 2, 1, 4, 3, 4, 2]\n",
      "fitness error:  0\n"
     ]
    }
   ],
   "source": [
    "#results:\n",
    "#find the bestchromoson that has fitness=0 with minimum number of colors\n",
    "index_minimum_colors=0\n",
    "test=0 \n",
    "for i in range( len(final_population) ):\n",
    "    if(fitness(gr,final_population[i])==0):\n",
    "        test=1\n",
    "        actual_value=len(set(final_population[index_minimum_colors]))\n",
    "        i_value=len( set(final_population[i]) )\n",
    "        if( actual_value > i_value ):\n",
    "            index_minimum_colors=i\n",
    "#test if the algorithm failed to find correct solution            \n",
    "if(test==0) :\n",
    "    print(\"Number of generations is not enough to find a correct solution \")\n",
    "else :   \n",
    "    print(\"a good solution for the problem using the number of colors \",actual_value,\"is:\\n\")\n",
    "    print(\"befor correction:\\n\" ,final_population[ index_minimum_colors] )\n",
    "    \n",
    "    #colors rank optimazation\n",
    "    colors=set( final_population[ index_minimum_colors] )\n",
    "    final_solution=final_population[ index_minimum_colors]\n",
    "    k=1\n",
    "    for x in colors:\n",
    "        for i in range(len(final_solution)):\n",
    "            if(final_solution[i]==x):\n",
    "                final_solution[i]=k\n",
    "        k=k+1\n",
    "    print(\"after correction:\\n\",final_solution)  \n",
    "    print(\"fitness error: \",fitness(gr,final_solution))"
   ]
  },
  {
   "cell_type": "code",
   "execution_count": null,
   "metadata": {},
   "outputs": [],
   "source": []
  }
 ],
 "metadata": {
  "kernelspec": {
   "display_name": "Python 3",
   "language": "python",
   "name": "python3"
  },
  "language_info": {
   "codemirror_mode": {
    "name": "ipython",
    "version": 3
   },
   "file_extension": ".py",
   "mimetype": "text/x-python",
   "name": "python",
   "nbconvert_exporter": "python",
   "pygments_lexer": "ipython3",
   "version": "3.7.3"
  }
 },
 "nbformat": 4,
 "nbformat_minor": 2
}
